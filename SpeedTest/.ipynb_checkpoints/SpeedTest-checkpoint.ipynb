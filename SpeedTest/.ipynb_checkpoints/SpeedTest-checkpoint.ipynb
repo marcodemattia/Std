{
 "metadata": {
  "name": "",
  "signature": "sha256:a9067aec309b8c3d5b567a3c38905ba60d145640fddac423dab07abffe33a734"
 },
 "nbformat": 3,
 "nbformat_minor": 0,
 "worksheets": [
  {
   "cells": [
    {
     "cell_type": "code",
     "collapsed": false,
     "input": [
      "%pylab inline"
     ],
     "language": "python",
     "metadata": {},
     "outputs": [
      {
       "output_type": "stream",
       "stream": "stdout",
       "text": [
        "Populating the interactive namespace from numpy and matplotlib\n"
       ]
      }
     ],
     "prompt_number": 34
    },
    {
     "cell_type": "code",
     "collapsed": false,
     "input": [
      "# %magic"
     ],
     "language": "python",
     "metadata": {},
     "outputs": [],
     "prompt_number": 16
    },
    {
     "cell_type": "code",
     "collapsed": false,
     "input": [
      "# %edit SpeedTest.py"
     ],
     "language": "python",
     "metadata": {},
     "outputs": [],
     "prompt_number": 17
    },
    {
     "cell_type": "code",
     "collapsed": false,
     "input": [
      "import os\n",
      "import subprocess\n",
      "import numpy as np\n",
      "import matplotlib.pyplot as plt\n",
      "from collections import OrderedDict\n",
      "import pprint"
     ],
     "language": "python",
     "metadata": {},
     "outputs": [],
     "prompt_number": 82
    },
    {
     "cell_type": "code",
     "collapsed": false,
     "input": [
      "def speed_test(case, option):\n",
      "    average_real = 0\n",
      "    average_user = 0\n",
      "    average_sys = 0\n",
      "\n",
      "    print \"Testing case:\", case\n",
      "    os.system(\"g++ -std=c++11 \"+option+\" \"+case)\n",
      "    # process = subprocess.Popen(['g++', '-std=c++11', case], stdout=subprocess.PIPE)\n",
      "    for i in range(1, 11):\n",
      "        process = subprocess.Popen(['time', './a.out'], stderr=subprocess.PIPE)\n",
      "        out, err = process.communicate()\n",
      "        # print err\n",
      "        real = float(err.split()[0])\n",
      "        user = float(err.split()[2])\n",
      "        sys = float(err.split()[4])\n",
      "\n",
      "        average_real = (average_real*(i-1) + real)/i\n",
      "        average_user = (average_user*(i-1) + user)/i\n",
      "        average_sys = (average_sys*(i-1) + sys)/i\n",
      "\n",
      "    # print \"<real> =\", average_real\n",
      "    # print \"<user> =\", average_user\n",
      "    # print \"<sys> =\", average_sys\n",
      "    return average_real, average_user, average_sys\n",
      "\n",
      "\n",
      "\n",
      "# cases = [\"Array_looping.cpp\", \"Vector_looping.cpp\", \"Vector_looping_safer.cpp\", \"Vector_iterating.cpp\", \"Vector_iterating_opt.cpp\", \"Vector_iterating_c11.cpp\"]\n",
      "\n",
      "cases = [\"map_insert.cpp\", \"unordered_map_insert.cpp\", \"map_find.cpp\", \"unordered_map_find.cpp\", \"map_iterate.cpp\", \"unordered_map_iterate.cpp\", \"map_iterate_opt.cpp\", \"unordered_map_iterate_opt.cpp\"]\n"
     ],
     "language": "python",
     "metadata": {},
     "outputs": [],
     "prompt_number": 59
    },
    {
     "cell_type": "code",
     "collapsed": false,
     "input": [
      "results = OrderedDict()\n",
      "for case in cases:\n",
      "    results[case] = speed_test(case, \"\")"
     ],
     "language": "python",
     "metadata": {},
     "outputs": [
      {
       "output_type": "stream",
       "stream": "stdout",
       "text": [
        "Testing case: map_insert.cpp\n",
        "Testing case:"
       ]
      },
      {
       "output_type": "stream",
       "stream": "stdout",
       "text": [
        " unordered_map_insert.cpp\n",
        "Testing case:"
       ]
      },
      {
       "output_type": "stream",
       "stream": "stdout",
       "text": [
        " map_find.cpp\n",
        "Testing case:"
       ]
      },
      {
       "output_type": "stream",
       "stream": "stdout",
       "text": [
        " unordered_map_find.cpp\n",
        "Testing case:"
       ]
      },
      {
       "output_type": "stream",
       "stream": "stdout",
       "text": [
        " map_iterate.cpp\n",
        "Testing case:"
       ]
      },
      {
       "output_type": "stream",
       "stream": "stdout",
       "text": [
        " unordered_map_iterate.cpp\n",
        "Testing case:"
       ]
      },
      {
       "output_type": "stream",
       "stream": "stdout",
       "text": [
        " map_iterate_opt.cpp\n",
        "Testing case:"
       ]
      },
      {
       "output_type": "stream",
       "stream": "stdout",
       "text": [
        " unordered_map_iterate_opt.cpp\n"
       ]
      }
     ],
     "prompt_number": 77
    },
    {
     "cell_type": "code",
     "collapsed": false,
     "input": [
      "# pprint.pprint(results)"
     ],
     "language": "python",
     "metadata": {},
     "outputs": [],
     "prompt_number": 83
    },
    {
     "cell_type": "code",
     "collapsed": false,
     "input": [
      "results_opt = OrderedDict()\n",
      "for case in cases:\n",
      "    results_opt[case] = speed_test(case, \"-O3\")"
     ],
     "language": "python",
     "metadata": {},
     "outputs": [
      {
       "output_type": "stream",
       "stream": "stdout",
       "text": [
        "Testing case: map_insert.cpp\n",
        "Testing case:"
       ]
      },
      {
       "output_type": "stream",
       "stream": "stdout",
       "text": [
        " unordered_map_insert.cpp\n",
        "Testing case:"
       ]
      },
      {
       "output_type": "stream",
       "stream": "stdout",
       "text": [
        " map_find.cpp\n",
        "Testing case:"
       ]
      },
      {
       "output_type": "stream",
       "stream": "stdout",
       "text": [
        " unordered_map_find.cpp\n",
        "Testing case:"
       ]
      },
      {
       "output_type": "stream",
       "stream": "stdout",
       "text": [
        " map_iterate.cpp\n",
        "Testing case:"
       ]
      },
      {
       "output_type": "stream",
       "stream": "stdout",
       "text": [
        " unordered_map_iterate.cpp\n",
        "Testing case:"
       ]
      },
      {
       "output_type": "stream",
       "stream": "stdout",
       "text": [
        " map_iterate_opt.cpp\n",
        "Testing case:"
       ]
      },
      {
       "output_type": "stream",
       "stream": "stdout",
       "text": [
        " unordered_map_iterate_opt.cpp\n"
       ]
      }
     ],
     "prompt_number": 80
    },
    {
     "cell_type": "code",
     "collapsed": false,
     "input": [
      "# pprint.pprint(results_opt)"
     ],
     "language": "python",
     "metadata": {},
     "outputs": [],
     "prompt_number": 84
    },
    {
     "cell_type": "code",
     "collapsed": false,
     "input": [
      "def plotResults(results, results_opt, whichTime = \"Real\"):\n",
      "    \n",
      "    timeCode = 0\n",
      "    if whichTime == \"User\": timeCode = 1\n",
      "    elif whichTime == \"Sys\": timeCode = 2\n",
      "    elif whichTime != \"Real\": return\n",
      "\n",
      "    N = len(results)\n",
      "    base = []\n",
      "    baseStd =   []\n",
      "    for k in results:\n",
      "        base.append(results[k][timeCode])\n",
      "        baseStd.append(0.001)\n",
      "\n",
      "    ind = np.arange(N)  # the x locations for the groups\n",
      "    width = 0.35       # the width of the bars\n",
      "\n",
      "    fig, ax = plt.subplots(figsize=(16,8))\n",
      "    rects1 = ax.bar(ind, base, width, color='r', yerr=baseStd)\n",
      "\n",
      "    optMeans = []\n",
      "    optStd =   []\n",
      "    for k in results_opt:\n",
      "        optMeans.append(results_opt[k][timeCode])\n",
      "        optStd.append(0.001)\n",
      "    rects2 = ax.bar(ind+width, optMeans, width, color='y', yerr=optStd)\n",
      "\n",
      "    # add some\n",
      "    ax.set_ylabel('Time')\n",
      "    ax.set_title(whichTime + ' Time')\n",
      "    ax.set_xticks(ind+width)\n",
      "    labels = []\n",
      "    for k in results:\n",
      "        labels.append(k.strip(\".cpp\").replace(\"_\", \" \").replace(\"unordered map\", \"unordered_map\"))\n",
      "    ax.set_xticklabels( labels )\n",
      "\n",
      "    ax.legend( (rects1[0], rects2[0]), ('base', 'opt') )\n",
      "\n",
      "    for label in ax.axes.xaxis.get_ticklabels():\n",
      "        label.set_rotation(90)\n",
      "\n",
      "    plt.show()"
     ],
     "language": "python",
     "metadata": {},
     "outputs": [],
     "prompt_number": 85
    },
    {
     "cell_type": "code",
     "collapsed": false,
     "input": [
      "plotResults(results, results_opt, \"Real\")\n",
      "plotResults(results, results_opt, \"User\")\n",
      "# plotResults(results, results_opt, \"Sys\")"
     ],
     "language": "python",
     "metadata": {},
     "outputs": [
      {
       "metadata": {},
       "output_type": "display_data",
       "png": "[encoded data removed]",
       "text": [
        "<matplotlib.figure.Figure at 0x115734dd0>"
       ]
      },
      {
       "metadata": {},
       "output_type": "display_data",
       "png": "[encoded data removed]",
       "text": [
        "<matplotlib.figure.Figure at 0x115734b10>"
       ]
      }
     ],
     "prompt_number": 86
    },
    {
     "cell_type": "code",
     "collapsed": false,
     "input": [],
     "language": "python",
     "metadata": {},
     "outputs": []
    }
   ],
   "metadata": {}
  }
 ]
}